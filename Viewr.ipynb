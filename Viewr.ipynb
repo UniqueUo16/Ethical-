{
  "nbformat": 4,
  "nbformat_minor": 0,
  "metadata": {
    "colab": {
      "provenance": [],
      "authorship_tag": "ABX9TyM12oAzUszCVVyUckTzqYzR",
      "include_colab_link": true
    },
    "kernelspec": {
      "name": "python3",
      "display_name": "Python 3"
    },
    "language_info": {
      "name": "python"
    }
  },
  "cells": [
    {
      "cell_type": "markdown",
      "metadata": {
        "id": "view-in-github",
        "colab_type": "text"
      },
      "source": [
        "<a href=\"https://colab.research.google.com/github/UniqueUo16/Ethical-/blob/main/Viewr.ipynb\" target=\"_parent\"><img src=\"https://colab.research.google.com/assets/colab-badge.svg\" alt=\"Open In Colab\"/></a>"
      ]
    },
    {
      "cell_type": "code",
      "source": [
        "from flask import Flask, render_template_string, request, redirect, url_for\n",
        "import json, random, os\n",
        "import threading\n",
        "from pyngrok import ngrok\n",
        "\n",
        "app = Flask(__name__)\n",
        "DATA_FILE = \"players.json\"\n",
        "\n",
        "# Initialize JSON storage\n",
        "if not os.path.exists(DATA_FILE):\n",
        "    with open(DATA_FILE, \"w\") as f:\n",
        "        json.dump({}, f)\n",
        "\n",
        "def load_players():\n",
        "    with open(DATA_FILE, \"r\") as f:\n",
        "        return json.load(f)\n",
        "\n",
        "def save_players(players):\n",
        "    with open(DATA_FILE, \"w\") as f:\n",
        "        json.dump(players, f, indent=4)\n",
        "\n",
        "START_BALANCE = 5000\n",
        "\n",
        "# ----------------- Templates -----------------\n",
        "base_html = \"\"\"\n",
        "<!DOCTYPE html>\n",
        "<html lang=\"en\">\n",
        "<head>\n",
        "<meta charset=\"UTF-8\">\n",
        "<title>{{ title if title else \"Bet App\" }}</title>\n",
        "<style>\n",
        "body { background: #0b0b0b; color: #fff; font-family: 'Arial', sans-serif; text-align:center; }\n",
        "nav a { color:#0ff; margin:0 10px; text-decoration:none; font-weight:bold; }\n",
        "button { background: linear-gradient(90deg, #0ff, #0f0); color:#111; padding:10px 20px; border:none; border-radius:10px; cursor:pointer; box-shadow:0 0 20px #0ff,0 0 40px #0f0; }\n",
        "button:hover { transform: scale(1.05); }\n",
        ".win { color:#0f0; font-weight:bold; text-shadow:0 0 10px #0f0; }\n",
        ".loss { color:#f00; font-weight:bold; text-shadow:0 0 10px #f00; }\n",
        ".jackpot { color: gold; font-weight:bold; text-shadow:0 0 20px gold,0 0 40px orange; }\n",
        "#reel-display { font-size:2em; margin:20px 0; }\n",
        "ul { list-style:none; padding:0; }\n",
        "ul li.win { color:#0f0; }\n",
        "ul li.loss { color:#f00; }\n",
        "</style>\n",
        "</head>\n",
        "<body>\n",
        "<nav>\n",
        "<a href=\"{{ url_for('dashboard') }}\">Dashboard</a> |\n",
        "<a href=\"{{ url_for('leaderboard') }}\">Leaderboard</a>\n",
        "</nav>\n",
        "<hr>\n",
        "{% block content %}{% endblock %}\n",
        "<script>\n",
        "// Slot JS + sounds + confetti\n",
        "document.addEventListener(\"DOMContentLoaded\",()=>{\n",
        "    const spinBtn = document.querySelector(\"button[type='submit']\");\n",
        "    const resultMsg = document.querySelector(\"p.win, p.loss, p.jackpot\");\n",
        "    spinBtn?.addEventListener(\"click\",(e)=>{\n",
        "        const spinSound = new Audio(\"/static/spin.mp3\");\n",
        "        spinSound.play();\n",
        "        const reels = [\"🍒\",\"🍋\",\"🍊\",\"7️⃣\",\"⭐\"];\n",
        "        const display = document.getElementById(\"reel-display\");\n",
        "        let count=0;\n",
        "        const interval=setInterval(()=>{\n",
        "            display.innerText = `${reels[Math.floor(Math.random()*reels.length)]} ${reels[Math.floor(Math.random()*reels.length)]} ${reels[Math.floor(Math.random()*reels.length)]}`;\n",
        "            count++;\n",
        "            if(count>10) clearInterval(interval);\n",
        "        },100);\n",
        "\n",
        "        setTimeout(()=>{\n",
        "            if(resultMsg){\n",
        "                if(resultMsg.classList.contains(\"win\")){\n",
        "                    new Audio(\"/static/win.mp3\").play();\n",
        "                    confetti({particleCount:100,spread:70});\n",
        "                } else if(resultMsg.classList.contains(\"jackpot\")){\n",
        "                    new Audio(\"/static/jackpot.mp3\").play();\n",
        "                    confetti({particleCount:200,spread:100});\n",
        "                }\n",
        "            }\n",
        "        },1200);\n",
        "\n",
        "        function confetti(opt={particleCount:100,spread:70}){\n",
        "            const script=document.createElement(\"script\");\n",
        "            script.src=\"https://cdn.jsdelivr.net/npm/canvas-confetti@1.6.0/dist/confetti.browser.min.js\";\n",
        "            script.onload=()=>confettiLib(opt);\n",
        "            document.body.appendChild(script);\n",
        "            function confettiLib(opt){confetti(opt);}\n",
        "        }\n",
        "    });\n",
        "});\n",
        "</script>\n",
        "</body>\n",
        "</html>\n",
        "\"\"\"\n",
        "\n",
        "dashboard_html = \"\"\"\n",
        "{% extends \"base.html\" %}\n",
        "{% block content %}\n",
        "<h1>🏆 Dashboard</h1>\n",
        "<ul>\n",
        "{% for username, player in players.items() %}\n",
        "<li>\n",
        "<a href=\"{{ url_for('profile', username=username) }}\">{{ player.name }}</a>\n",
        "- Balance: ${{ player.balance }} - Wins: {{ player.wins }}\n",
        "<a href=\"{{ url_for('play', username=username) }}\">Play</a>\n",
        "</li>\n",
        "{% else %}\n",
        "<li>No players yet!</li>\n",
        "{% endfor %}\n",
        "</ul>\n",
        "{% endblock %}\n",
        "\"\"\"\n",
        "\n",
        "profile_html = \"\"\"\n",
        "{% extends \"base.html\" %}\n",
        "{% block content %}\n",
        "<h1>👤 Profile: {{ player.name }}</h1>\n",
        "<p>Balance: ${{ player.balance }} | Wins: {{ player.wins }} | Losses: {{ player.losses }} | Streak: {{ player.streak }}</p>\n",
        "<h3>Last Spins:</h3>\n",
        "<ul>\n",
        "{% for h in player.history %}\n",
        "<li class=\"{{ h }}\">{{ h|capitalize }}</li>\n",
        "{% endfor %}\n",
        "</ul>\n",
        "{% endblock %}\n",
        "\"\"\"\n",
        "\n",
        "play_html = \"\"\"\n",
        "{% extends \"base.html\" %}\n",
        "{% block content %}\n",
        "<h1>🎰 Slot Machine - {{ player.name }}</h1>\n",
        "<p>Balance: ${{ player.balance }} | Wins: {{ player.wins }} | Streak: {{ player.streak }}</p>\n",
        "<form method=\"POST\">\n",
        "<label>Stake:</label>\n",
        "<input type=\"number\" name=\"stake\" value=\"100\" min=\"10\" max=\"{{ player.balance }}\">\n",
        "<button type=\"submit\">Spin</button>\n",
        "</form>\n",
        "<div id=\"reel-display\"></div>\n",
        "{% if result %}\n",
        "<p class=\"{{ result.type }}\">{{ result.msg }}</p>\n",
        "{% endif %}\n",
        "<h3>Last Spins:</h3>\n",
        "<ul>\n",
        "{% for h in player.history %}\n",
        "<li class=\"{{ h }}\">{{ h|capitalize }}</li>\n",
        "{% endfor %}\n",
        "</ul>\n",
        "{% endblock %}\n",
        "\"\"\"\n",
        "\n",
        "leaderboard_html = \"\"\"\n",
        "{% extends \"base.html\" %}\n",
        "{% block content %}\n",
        "<h1>🏅 Leaderboard</h1>\n",
        "<ol>\n",
        "{% for player in players %}\n",
        "<li>{{ player.name }} - ${{ player.balance }} - Wins: {{ player.wins }}</li>\n",
        "{% endfor %}\n",
        "</ol>\n",
        "{% endblock %}\n",
        "\"\"\"\n",
        "\n",
        "# ----------------- Routes -----------------\n",
        "@app.route(\"/\")\n",
        "def dashboard():\n",
        "    players = load_players()\n",
        "    return render_template_string(dashboard_html, players=players)\n",
        "\n",
        "@app.route(\"/profile/<username>\")\n",
        "def profile(username):\n",
        "    players = load_players()\n",
        "    player = players.get(username)\n",
        "    if not player:\n",
        "        players[username] = {\n",
        "            \"name\": username,\n",
        "            \"balance\": START_BALANCE,\n",
        "            \"wins\":0, \"losses\":0, \"streak\":0, \"history\":[]\n",
        "        }\n",
        "        save_players(players)\n",
        "        player = players[username]\n",
        "    return render_template_string(profile_html, player=player)\n",
        "\n",
        "@app.route(\"/play/<username>\", methods=[\"GET\",\"POST\"])\n",
        "def play(username):\n",
        "    players = load_players()\n",
        "    player = players.get(username)\n",
        "    if not player: return redirect(url_for(\"dashboard\"))\n",
        "    result = None\n",
        "    if request.method==\"POST\":\n",
        "        stake = int(request.form.get(\"stake\",100))\n",
        "        if stake > player[\"balance\"]:\n",
        "            result = {\"msg\":\"Insufficient balance!\",\"type\":\"loss\"}\n",
        "        else:\n",
        "            player[\"balance\"] -= stake\n",
        "            secret=random.randint(1,5)\n",
        "            guess=random.randint(1,5)\n",
        "            if guess==secret:\n",
        "                win_amount = stake*5\n",
        "                player[\"balance\"] += win_amount\n",
        "                player[\"wins\"] += 1\n",
        "                player[\"streak\"] += 1\n",
        "                result = {\"msg\":f\"You won ${win_amount}!\",\"type\":\"win\"}\n",
        "            else:\n",
        "                player[\"losses\"] += 1\n",
        "                player[\"streak\"] = 0\n",
        "                result = {\"msg\":f\"You lost ${stake}. Number was {secret}\",\"type\":\"loss\"}\n",
        "            player[\"history\"].insert(0,result[\"type\"])\n",
        "            if len(player[\"history\"])>20: player[\"history\"]=player[\"history\"][:20]\n",
        "            save_players(players)\n",
        "    return render_template_string(play_html, player=player, result=result)\n",
        "\n",
        "@app.route(\"/leaderboard\")\n",
        "def leaderboard():\n",
        "    players = load_players()\n",
        "    sorted_players = sorted(players.values(), key=lambda x:x[\"balance\"], reverse=True)\n",
        "    return render_template_string(leaderboard_html, players=sorted_players[:10])\n",
        "\n",
        "# ----------------- Run App -----------------\n",
        "if __name__==\"__main__\":\n",
        "    def run():\n",
        "        app.run(port=5000)\n",
        "\n",
        "    threading.Thread(target=run).start()\n",
        "\n",
        "    # Connect ngrok\n",
        "    public_url = ngrok.connect(5000)\n",
        "    print(\"Your public URL:\", public_url)"
      ],
      "metadata": {
        "id": "x-U9g0bIrmpi",
        "colab": {
          "base_uri": "https://localhost:8080/"
        },
        "outputId": "768441c3-3834-4f6b-c9ca-52f42f53cd69"
      },
      "execution_count": 2,
      "outputs": [
        {
          "output_type": "stream",
          "name": "stdout",
          "text": [
            " * Serving Flask app '__main__'\n",
            " * Debug mode: off\n"
          ]
        },
        {
          "output_type": "stream",
          "name": "stderr",
          "text": [
            "INFO:werkzeug:\u001b[31m\u001b[1mWARNING: This is a development server. Do not use it in a production deployment. Use a production WSGI server instead.\u001b[0m\n",
            " * Running on http://127.0.0.1:5000\n",
            "INFO:werkzeug:\u001b[33mPress CTRL+C to quit\u001b[0m\n"
          ]
        },
        {
          "output_type": "stream",
          "name": "stdout",
          "text": [
            "Your public URL: NgrokTunnel: \"https://7f17c82f8869.ngrok-free.app\" -> \"http://localhost:5000\"\n"
          ]
        }
      ]
    },
    {
      "cell_type": "markdown",
      "source": [],
      "metadata": {
        "id": "vdnpDcP5yCj3"
      }
    },
    {
      "cell_type": "code",
      "metadata": {
        "colab": {
          "base_uri": "https://localhost:8080/"
        },
        "id": "e81d57ae",
        "outputId": "070df023-6748-4a8a-87eb-78ee7b45e610"
      },
      "source": [
        "# Replace \"YOUR_AUTHTOKEN\" with your actual ngrok authtoken\n",
        "NGROK_AUTHTOKEN = \"yr_auth_token\"\n",
        "!ngrok authtoken {NGROK_AUTHTOKEN}"
      ],
      "execution_count": null,
      "outputs": [
        {
          "output_type": "stream",
          "name": "stdout",
          "text": [
            "Authtoken saved to configuration file: /root/.config/ngrok/ngrok.yml\n"
          ]
        }
      ]
    },
    {
      "cell_type": "code",
      "metadata": {
        "colab": {
          "base_uri": "https://localhost:8080/"
        },
        "id": "f5e1de27",
        "outputId": "ac738f97-57bf-4cee-c3ba-2cbf8f787e71"
      },
      "source": [
        "%pip install pyngrok"
      ],
      "execution_count": null,
      "outputs": [
        {
          "output_type": "stream",
          "name": "stdout",
          "text": [
            "Requirement already satisfied: pyngrok in /usr/local/lib/python3.12/dist-packages (7.3.0)\n",
            "Requirement already satisfied: PyYAML>=5.1 in /usr/local/lib/python3.12/dist-packages (from pyngrok) (6.0.2)\n"
          ]
        }
      ]
    },
    {
      "cell_type": "code",
      "source": [
        "!kill $(lsof -t -i:5000)\n",
        "!kill $(lsof -t -i:4040)"
      ],
      "metadata": {
        "id": "fUYAwOc-uFk2",
        "colab": {
          "base_uri": "https://localhost:8080/"
        },
        "outputId": "b286e732-c375-48c6-f1d7-cc393b7bf4fb"
      },
      "execution_count": 1,
      "outputs": [
        {
          "output_type": "stream",
          "name": "stdout",
          "text": [
            "kill: usage: kill [-s sigspec | -n signum | -sigspec] pid | jobspec ... or kill -l [sigspec]\n"
          ]
        }
      ]
    }
  ]
}
